{
 "cells": [
  {
   "cell_type": "markdown",
   "id": "7dc93588",
   "metadata": {},
   "source": [
    "# Data Science Tools and Ecosystem"
   ]
  },
  {
   "cell_type": "markdown",
   "id": "6949455a",
   "metadata": {},
   "source": [
    "## In this notebook, Data Science Tools and Ecosystem are summarized."
   ]
  },
  {
   "cell_type": "code",
   "execution_count": 3,
   "id": "bb1bbe05",
   "metadata": {},
   "outputs": [
    {
     "data": {
      "text/markdown": [
       "\n",
       "## Some of the popular languages that Data Scientists use are:\n",
       "\n",
       "- **Python**: Python is the most popular language in data science due to its ease of use and extensive libraries for machine learning, data manipulation, and visualization.\n",
       "\n",
       "- **R**: R is another popular language in data science, particularly for statistical analysis and data visualization.\n",
       "\n",
       "- **SQL**: SQL (Structured Query Language) is a powerful language used for managing and querying relational databases, which is a fundamental aspect of data science.\n",
       "\n",
       "- **Java**: Java is a widely-used language for building enterprise-level applications, including those related to data science.\n",
       "\n",
       "- **Scala**: Scala is a programming language that runs on the Java Virtual Machine (JVM) and is often used for big data processing.\n",
       "\n",
       "- **Julia**: Julia is a relatively new language that has gained popularity in data science due to its speed and high-performance computing capabilities.\n",
       "\n",
       "- **MATLAB**: MATLAB is a numerical computing language that is often used for data analysis and visualization in engineering and science.\n",
       "\n",
       "These are just a few of the popular data science languages, but there are many others out there depending on your specific needs and preferences.\n"
      ],
      "text/plain": [
       "<IPython.core.display.Markdown object>"
      ]
     },
     "metadata": {},
     "output_type": "display_data"
    }
   ],
   "source": [
    "from IPython.display import Markdown\n",
    "markdown_text = \"\"\"\n",
    "## Some of the popular languages that Data Scientists use are:\n",
    "\n",
    "- **Python**: Python is the most popular language in data science due to its ease of use and extensive libraries for machine learning, data manipulation, and visualization.\n",
    "\n",
    "- **R**: R is another popular language in data science, particularly for statistical analysis and data visualization.\n",
    "\n",
    "- **SQL**: SQL (Structured Query Language) is a powerful language used for managing and querying relational databases, which is a fundamental aspect of data science.\n",
    "\n",
    "- **Java**: Java is a widely-used language for building enterprise-level applications, including those related to data science.\n",
    "\n",
    "- **Scala**: Scala is a programming language that runs on the Java Virtual Machine (JVM) and is often used for big data processing.\n",
    "\n",
    "- **Julia**: Julia is a relatively new language that has gained popularity in data science due to its speed and high-performance computing capabilities.\n",
    "\n",
    "- **MATLAB**: MATLAB is a numerical computing language that is often used for data analysis and visualization in engineering and science.\n",
    "\n",
    "These are just a few of the popular data science languages, but there are many others out there depending on your specific needs and preferences.\n",
    "\"\"\"\n",
    "\n",
    "display(Markdown(markdown_text))"
   ]
  },
  {
   "cell_type": "code",
   "execution_count": 4,
   "id": "30b33452",
   "metadata": {},
   "outputs": [
    {
     "data": {
      "text/markdown": [
       "\n",
       "## Popular Data Science Libraries\n",
       "\n",
       "- **NumPy**: NumPy is a library for working with arrays and matrices in Python. It is widely used in data science for scientific computing, data analysis, and machine learning.\n",
       "\n",
       "- **Pandas**: Pandas is a library for data manipulation and analysis in Python. It provides a powerful and flexible data structure called DataFrame, which is used for working with tabular data.\n",
       "\n",
       "- **Matplotlib**: Matplotlib is a library for creating static, animated, and interactive visualizations in Python. It is often used in data science for data exploration and presentation.\n",
       "\n",
       "- **Seaborn**: Seaborn is a library for data visualization built on top of Matplotlib. It provides a high-level interface for creating attractive and informative statistical graphics.\n",
       "\n",
       "- **Scikit-learn**: Scikit-learn is a library for machine learning in Python. It provides a wide range of algorithms and tools for classification, regression, clustering, and dimensionality reduction.\n",
       "\n",
       "- **TensorFlow**: TensorFlow is an open-source library for machine learning developed by Google. It is widely used for building and training deep neural networks.\n",
       "\n",
       "- **PyTorch**: PyTorch is an open-source library for machine learning developed by Facebook. It provides a dynamic computational graph that allows for more flexibility in building and training deep neural networks.\n",
       "\n",
       "These are just a few of the popular data science libraries in Python, but there are many others out there depending on your specific needs and preferences.\n"
      ],
      "text/plain": [
       "<IPython.core.display.Markdown object>"
      ]
     },
     "metadata": {},
     "output_type": "display_data"
    }
   ],
   "source": [
    "from IPython.display import Markdown\n",
    "\n",
    "markdown_text = \"\"\"\n",
    "## Popular Data Science Libraries\n",
    "\n",
    "- **NumPy**: NumPy is a library for working with arrays and matrices in Python. It is widely used in data science for scientific computing, data analysis, and machine learning.\n",
    "\n",
    "- **Pandas**: Pandas is a library for data manipulation and analysis in Python. It provides a powerful and flexible data structure called DataFrame, which is used for working with tabular data.\n",
    "\n",
    "- **Matplotlib**: Matplotlib is a library for creating static, animated, and interactive visualizations in Python. It is often used in data science for data exploration and presentation.\n",
    "\n",
    "- **Seaborn**: Seaborn is a library for data visualization built on top of Matplotlib. It provides a high-level interface for creating attractive and informative statistical graphics.\n",
    "\n",
    "- **Scikit-learn**: Scikit-learn is a library for machine learning in Python. It provides a wide range of algorithms and tools for classification, regression, clustering, and dimensionality reduction.\n",
    "\n",
    "- **TensorFlow**: TensorFlow is an open-source library for machine learning developed by Google. It is widely used for building and training deep neural networks.\n",
    "\n",
    "- **PyTorch**: PyTorch is an open-source library for machine learning developed by Facebook. It provides a dynamic computational graph that allows for more flexibility in building and training deep neural networks.\n",
    "\n",
    "These are just a few of the popular data science libraries in Python, but there are many others out there depending on your specific needs and preferences.\n",
    "\"\"\"\n",
    "\n",
    "display(Markdown(markdown_text))\n"
   ]
  },
  {
   "cell_type": "code",
   "execution_count": 5,
   "id": "f14ef94f",
   "metadata": {
    "scrolled": true
   },
   "outputs": [
    {
     "data": {
      "text/markdown": [
       "\n",
       "| Tool | Description |\n",
       "| --- | --- |\n",
       "| **Jupyter Notebook** | A web-based interactive development environment that allows you to create and share documents that contain live code, equations, visualizations, and narrative text. |\n",
       "| **Anaconda** | A distribution of Python and R, which includes many popular Data Science libraries and tools, such as NumPy, Pandas, Matplotlib, Scikit-learn, TensorFlow, and PyTorch. |\n",
       "| **RStudio** | An integrated development environment (IDE) for R that provides a user-friendly interface for working with R, including data visualization, debugging, and project management. |\n",
       "| **Tableau** | A powerful data visualization and business intelligence tool that allows you to connect to and analyze data from a wide range of sources. |\n",
       "| **Apache Spark** | A fast and general-purpose cluster computing system for big data processing, with support for programming languages such as Python, R, and Java. |\n",
       "| **Apache Hadoop** | A framework for distributed storage and processing of large datasets across clusters of computers, with support for various data processing tools such as MapReduce and Hive. |\n",
       "\n",
       "These are just a few of the popular Data Science tools, but there are many others out there depending on your specific needs and preferences.\n"
      ],
      "text/plain": [
       "<IPython.core.display.Markdown object>"
      ]
     },
     "metadata": {},
     "output_type": "display_data"
    }
   ],
   "source": [
    "from IPython.display import Markdown, display\n",
    "\n",
    "markdown_text = \"\"\"\n",
    "| Tool | Description |\n",
    "| --- | --- |\n",
    "| **Jupyter Notebook** | A web-based interactive development environment that allows you to create and share documents that contain live code, equations, visualizations, and narrative text. |\n",
    "| **Anaconda** | A distribution of Python and R, which includes many popular Data Science libraries and tools, such as NumPy, Pandas, Matplotlib, Scikit-learn, TensorFlow, and PyTorch. |\n",
    "| **RStudio** | An integrated development environment (IDE) for R that provides a user-friendly interface for working with R, including data visualization, debugging, and project management. |\n",
    "| **Tableau** | A powerful data visualization and business intelligence tool that allows you to connect to and analyze data from a wide range of sources. |\n",
    "| **Apache Spark** | A fast and general-purpose cluster computing system for big data processing, with support for programming languages such as Python, R, and Java. |\n",
    "| **Apache Hadoop** | A framework for distributed storage and processing of large datasets across clusters of computers, with support for various data processing tools such as MapReduce and Hive. |\n",
    "\n",
    "These are just a few of the popular Data Science tools, but there are many others out there depending on your specific needs and preferences.\n",
    "\"\"\"\n",
    "\n",
    "display(Markdown(markdown_text))\n"
   ]
  },
  {
   "cell_type": "markdown",
   "id": "4b48a280",
   "metadata": {},
   "source": [
    "### Below are a few examples of evaluating arithmetic expressions in Python:"
   ]
  },
  {
   "cell_type": "code",
   "execution_count": 6,
   "id": "fe254972",
   "metadata": {},
   "outputs": [
    {
     "name": "stdout",
     "output_type": "stream",
     "text": [
      "8\n",
      "5\n",
      "42\n",
      "5.0\n",
      "2\n"
     ]
    }
   ],
   "source": [
    "# addition\n",
    "result = 3 + 5\n",
    "print(result)   # output: 8\n",
    "\n",
    "# subtraction\n",
    "result = 9 - 4\n",
    "print(result)   # output: 5\n",
    "\n",
    "# multiplication\n",
    "result = 6 * 7\n",
    "print(result)   # output: 42\n",
    "\n",
    "# division\n",
    "result = 10 / 2\n",
    "print(result)   # output: 5.0 (Note: In Python 3, division always returns a float)\n",
    "\n",
    "# modulus\n",
    "result = 11 % 3\n",
    "print(result)   # output: 2\n"
   ]
  },
  {
   "cell_type": "code",
   "execution_count": 9,
   "id": "ae841147",
   "metadata": {},
   "outputs": [
    {
     "name": "stdout",
     "output_type": "stream",
     "text": [
      "This a simple arithmetic expression to mutiply then add integers: 17\n"
     ]
    }
   ],
   "source": [
    "a=(3*4)+5\n",
    "print('This a simple arithmetic expression to mutiply then add integers:',a)"
   ]
  },
  {
   "cell_type": "code",
   "execution_count": 11,
   "id": "182013b5",
   "metadata": {},
   "outputs": [
    {
     "name": "stdout",
     "output_type": "stream",
     "text": [
      "This will convert 200 minutes to hours by diving by 60: 3.3333333333333335\n"
     ]
    }
   ],
   "source": [
    "# Convert 200 minutes to hours by dividing by 60\n",
    "minutes = 200\n",
    "hours = minutes / 60\n",
    "print('This will convert 200 minutes to hours by diving by 60:',hours)"
   ]
  },
  {
   "cell_type": "markdown",
   "id": "38a2ff26",
   "metadata": {},
   "source": [
    "**Objective**"
   ]
  },
  {
   "cell_type": "markdown",
   "id": "4af20b17",
   "metadata": {},
   "source": [
    "### Understand the basics of Jupyter Notebook and how it can be used for data analysis\n",
    "### Learn about popular programming languages used in data science, such as Python and R\n",
    "### Practice manipulating and visualizing data using pandas and matplotlib\n",
    "### Gain an understanding of statistical analysis and hypothesis testing\n",
    "### Explore machine learning concepts and algorithms, including supervised and unsupervised learning"
   ]
  },
  {
   "cell_type": "markdown",
   "id": "c6c053d5",
   "metadata": {},
   "source": [
    "## Author"
   ]
  },
  {
   "cell_type": "markdown",
   "id": "1a31fffc",
   "metadata": {},
   "source": [
    "Sourabh Singh Chandel"
   ]
  },
  {
   "cell_type": "code",
   "execution_count": null,
   "id": "ad9577fa",
   "metadata": {},
   "outputs": [],
   "source": []
  }
 ],
 "metadata": {
  "kernelspec": {
   "display_name": "Python 3 (ipykernel)",
   "language": "python",
   "name": "python3"
  },
  "language_info": {
   "codemirror_mode": {
    "name": "ipython",
    "version": 3
   },
   "file_extension": ".py",
   "mimetype": "text/x-python",
   "name": "python",
   "nbconvert_exporter": "python",
   "pygments_lexer": "ipython3",
   "version": "3.9.13"
  }
 },
 "nbformat": 4,
 "nbformat_minor": 5
}
